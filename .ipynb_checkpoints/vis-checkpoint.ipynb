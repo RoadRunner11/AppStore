{
 "cells": [
  {
   "cell_type": "code",
   "execution_count": 10,
   "metadata": {},
   "outputs": [
    {
     "name": "stdout",
     "output_type": "stream",
     "text": [
      "12-Week-Push-Pull-Legs-Program-Complete-E-Book-By-Chris-Jones-UPDATE1.pdf\r\n",
      "\u001b[30m\u001b[43m2-JS-Basics-Final\u001b[m\u001b[m\r\n",
      "\u001b[34mApostille\u001b[m\u001b[m\r\n",
      "\u001b[34mAppStore\u001b[m\u001b[m\r\n",
      "\u001b[34mBAEEE\u001b[m\u001b[m\r\n",
      "\u001b[34mBrooklyn Bridge Shoot\u001b[m\u001b[m\r\n",
      "Certificate_17349871.pdf\r\n",
      "Data_Manipulation_with_Pandas_Homework.ipynb\r\n",
      "\u001b[30m\u001b[43mDont format\u001b[m\u001b[m\r\n",
      "Foundations_of_Stats_HW.Rmd\r\n",
      "\u001b[34mGRE\u001b[m\u001b[m\r\n",
      "\u001b[34mIntroduction_to_Scrapy\u001b[m\u001b[m\r\n",
      "\u001b[34mJobs\u001b[m\u001b[m\r\n",
      "\u001b[35mLauncher.app\u001b[m\u001b[m\r\n",
      "\u001b[34mNLP_JumpStart\u001b[m\u001b[m\r\n",
      "\u001b[34mNYCDSA \u001b[m\u001b[m\r\n",
      "Numpy_and_Scipy_Homework.ipynb\r\n",
      "\u001b[34mOld camera photos\u001b[m\u001b[m\r\n",
      "\u001b[34mPresh_PersonalSite\u001b[m\u001b[m\r\n",
      "\u001b[34mProgramming Resources\u001b[m\u001b[m\r\n",
      "\u001b[34mPython-Data-Science-and-Machine-Learning-Bootcamp\u001b[m\u001b[m\r\n",
      "\u001b[34mSBU Classes\u001b[m\u001b[m\r\n",
      "\u001b[34mScrapy_Lab\u001b[m\u001b[m\r\n",
      "Scrapy_Lab.zip\r\n",
      "\u001b[34mSelenium\u001b[m\u001b[m\r\n",
      "\u001b[34mVideos\u001b[m\u001b[m\r\n",
      "\u001b[34mVolumetriqs\u001b[m\u001b[m\r\n",
      "\u001b[34mYoutubeStatistics\u001b[m\u001b[m\r\n",
      "\u001b[34m__pycache__\u001b[m\u001b[m\r\n",
      "appstore_data.csv\r\n",
      "\u001b[34mbeam\u001b[m\u001b[m\r\n",
      "\u001b[34mbestbuy\u001b[m\u001b[m\r\n",
      "\u001b[34mbudget\u001b[m\u001b[m\r\n",
      "cleaning.py\r\n",
      "\u001b[34mimmigration\u001b[m\u001b[m\r\n",
      "\u001b[34mmoe\u001b[m\u001b[m\r\n",
      "python_exam.ipynb\r\n",
      "\u001b[34mscreen shot\u001b[m\u001b[m\r\n",
      "\u001b[34mshinyApps\u001b[m\u001b[m\r\n",
      "\u001b[34mstudy videos\u001b[m\u001b[m\r\n",
      "\u001b[34mvarel\u001b[m\u001b[m\r\n",
      "vis.ipynb\r\n",
      "\u001b[34myoutubeData\u001b[m\u001b[m\r\n",
      "~$Spider Diagram.xlsx\r\n"
     ]
    }
   ],
   "source": [
    "!ls"
   ]
  },
  {
   "cell_type": "code",
   "execution_count": 14,
   "metadata": {},
   "outputs": [],
   "source": [
    "import re\n",
    "import pandas as pd\n",
    "import numpy as np\n",
    "import seaborn as sns\n",
    "import matplotlib.pyplot as plt\n",
    "\n",
    "from cleaning import clean"
   ]
  },
  {
   "cell_type": "code",
   "execution_count": 15,
   "metadata": {},
   "outputs": [],
   "source": [
    "raw_data = pd.read_csv(\"appstore_data.csv\")"
   ]
  },
  {
   "cell_type": "code",
   "execution_count": 16,
   "metadata": {},
   "outputs": [
    {
     "ename": "NameError",
     "evalue": "name 'cleaning' is not defined",
     "output_type": "error",
     "traceback": [
      "\u001b[0;31m---------------------------------------------------------------------------\u001b[0m",
      "\u001b[0;31mNameError\u001b[0m                                 Traceback (most recent call last)",
      "\u001b[0;32m<ipython-input-16-93d2cfe4c6c6>\u001b[0m in \u001b[0;36m<module>\u001b[0;34m()\u001b[0m\n\u001b[0;32m----> 1\u001b[0;31m \u001b[0mdf\u001b[0m \u001b[0;34m=\u001b[0m \u001b[0mcleaning\u001b[0m\u001b[0;34m.\u001b[0m\u001b[0mclean\u001b[0m\u001b[0;34m(\u001b[0m\u001b[0mraw_data\u001b[0m\u001b[0;34m)\u001b[0m\u001b[0;34m\u001b[0m\u001b[0m\n\u001b[0m",
      "\u001b[0;31mNameError\u001b[0m: name 'cleaning' is not defined"
     ]
    }
   ],
   "source": [
    "df = clean(raw_data)"
   ]
  },
  {
   "cell_type": "code",
   "execution_count": null,
   "metadata": {},
   "outputs": [],
   "source": [
    "df.sample(10)"
   ]
  },
  {
   "cell_type": "code",
   "execution_count": 104,
   "metadata": {},
   "outputs": [
    {
     "name": "stdout",
     "output_type": "stream",
     "text": [
      "<class 'pandas.core.frame.DataFrame'>\n",
      "RangeIndex: 2880 entries, 0 to 2879\n",
      "Data columns (total 12 columns):\n",
      "age_rating       2880 non-null object\n",
      "app_rating       2083 non-null float64\n",
      "category         2880 non-null object\n",
      "compatibility    2880 non-null object\n",
      "languages        2861 non-null object\n",
      "name             2880 non-null object\n",
      "price            2880 non-null object\n",
      "rank             1993 non-null float64\n",
      "rating_count     2880 non-null int64\n",
      "size             2880 non-null object\n",
      "num_languages    2880 non-null int64\n",
      "boolean_rank     2880 non-null bool\n",
      "dtypes: bool(1), float64(2), int64(2), object(7)\n",
      "memory usage: 250.4+ KB\n"
     ]
    }
   ],
   "source": [
    "df.info()"
   ]
  },
  {
   "cell_type": "code",
   "execution_count": 105,
   "metadata": {},
   "outputs": [
    {
     "data": {
      "text/html": [
       "<div>\n",
       "<style scoped>\n",
       "    .dataframe tbody tr th:only-of-type {\n",
       "        vertical-align: middle;\n",
       "    }\n",
       "\n",
       "    .dataframe tbody tr th {\n",
       "        vertical-align: top;\n",
       "    }\n",
       "\n",
       "    .dataframe thead th {\n",
       "        text-align: right;\n",
       "    }\n",
       "</style>\n",
       "<table border=\"1\" class=\"dataframe\">\n",
       "  <thead>\n",
       "    <tr style=\"text-align: right;\">\n",
       "      <th></th>\n",
       "      <th>app_rating</th>\n",
       "      <th>rank</th>\n",
       "      <th>rating_count</th>\n",
       "      <th>num_languages</th>\n",
       "    </tr>\n",
       "  </thead>\n",
       "  <tbody>\n",
       "    <tr>\n",
       "      <th>count</th>\n",
       "      <td>2083.000000</td>\n",
       "      <td>1993.000000</td>\n",
       "      <td>2880.000000</td>\n",
       "      <td>2880.000000</td>\n",
       "    </tr>\n",
       "    <tr>\n",
       "      <th>mean</th>\n",
       "      <td>4.294383</td>\n",
       "      <td>91.770697</td>\n",
       "      <td>77.323264</td>\n",
       "      <td>7.186111</td>\n",
       "    </tr>\n",
       "    <tr>\n",
       "      <th>std</th>\n",
       "      <td>0.797957</td>\n",
       "      <td>58.004718</td>\n",
       "      <td>175.593392</td>\n",
       "      <td>10.576903</td>\n",
       "    </tr>\n",
       "    <tr>\n",
       "      <th>min</th>\n",
       "      <td>1.000000</td>\n",
       "      <td>1.000000</td>\n",
       "      <td>0.000000</td>\n",
       "      <td>0.000000</td>\n",
       "    </tr>\n",
       "    <tr>\n",
       "      <th>25%</th>\n",
       "      <td>4.100000</td>\n",
       "      <td>41.000000</td>\n",
       "      <td>0.000000</td>\n",
       "      <td>1.000000</td>\n",
       "    </tr>\n",
       "    <tr>\n",
       "      <th>50%</th>\n",
       "      <td>4.600000</td>\n",
       "      <td>88.000000</td>\n",
       "      <td>4.000000</td>\n",
       "      <td>2.000000</td>\n",
       "    </tr>\n",
       "    <tr>\n",
       "      <th>75%</th>\n",
       "      <td>4.800000</td>\n",
       "      <td>142.000000</td>\n",
       "      <td>44.000000</td>\n",
       "      <td>10.000000</td>\n",
       "    </tr>\n",
       "    <tr>\n",
       "      <th>max</th>\n",
       "      <td>5.000000</td>\n",
       "      <td>200.000000</td>\n",
       "      <td>996.000000</td>\n",
       "      <td>89.000000</td>\n",
       "    </tr>\n",
       "  </tbody>\n",
       "</table>\n",
       "</div>"
      ],
      "text/plain": [
       "        app_rating         rank  rating_count  num_languages\n",
       "count  2083.000000  1993.000000   2880.000000    2880.000000\n",
       "mean      4.294383    91.770697     77.323264       7.186111\n",
       "std       0.797957    58.004718    175.593392      10.576903\n",
       "min       1.000000     1.000000      0.000000       0.000000\n",
       "25%       4.100000    41.000000      0.000000       1.000000\n",
       "50%       4.600000    88.000000      4.000000       2.000000\n",
       "75%       4.800000   142.000000     44.000000      10.000000\n",
       "max       5.000000   200.000000    996.000000      89.000000"
      ]
     },
     "execution_count": 105,
     "metadata": {},
     "output_type": "execute_result"
    }
   ],
   "source": [
    "df.describe()"
   ]
  },
  {
   "cell_type": "code",
   "execution_count": 106,
   "metadata": {},
   "outputs": [
    {
     "data": {
      "text/plain": [
       "0       0.0\n",
       "1       0.0\n",
       "2       1.5\n",
       "3       4.3\n",
       "4       5.0\n",
       "5       0.0\n",
       "6       1.5\n",
       "7       4.5\n",
       "8       4.5\n",
       "9       4.7\n",
       "10      4.7\n",
       "11      4.4\n",
       "12      4.8\n",
       "13      0.0\n",
       "14      0.0\n",
       "15      0.0\n",
       "16      0.0\n",
       "17      0.0\n",
       "18      0.0\n",
       "19      0.0\n",
       "20      0.0\n",
       "21      0.0\n",
       "22      0.0\n",
       "23      0.0\n",
       "24      0.0\n",
       "25      0.0\n",
       "26      0.0\n",
       "27      0.0\n",
       "28      0.0\n",
       "29      0.0\n",
       "       ... \n",
       "2850    0.0\n",
       "2851    0.0\n",
       "2852    4.0\n",
       "2853    4.6\n",
       "2854    2.0\n",
       "2855    4.0\n",
       "2856    5.0\n",
       "2857    0.0\n",
       "2858    0.0\n",
       "2859    5.0\n",
       "2860    0.0\n",
       "2861    0.0\n",
       "2862    0.0\n",
       "2863    4.5\n",
       "2864    0.0\n",
       "2865    0.0\n",
       "2866    4.7\n",
       "2867    4.0\n",
       "2868    0.0\n",
       "2869    4.8\n",
       "2870    4.9\n",
       "2871    4.4\n",
       "2872    5.0\n",
       "2873    4.3\n",
       "2874    4.9\n",
       "2875    4.5\n",
       "2876    4.4\n",
       "2877    4.9\n",
       "2878    0.0\n",
       "2879    3.6\n",
       "Name: app_rating, Length: 2880, dtype: float64"
      ]
     },
     "execution_count": 106,
     "metadata": {},
     "output_type": "execute_result"
    }
   ],
   "source": [
    "df['app_rating'].replace(np.nan,0)"
   ]
  },
  {
   "cell_type": "code",
   "execution_count": 107,
   "metadata": {},
   "outputs": [
    {
     "data": {
      "text/plain": [
       "0        31.4\n",
       "1       180.2\n",
       "2        43.6\n",
       "3        82.6\n",
       "4       138.3\n",
       "5        13.3\n",
       "6         1.2\n",
       "7        48.4\n",
       "8       116.6\n",
       "9        85.5\n",
       "10      114.1\n",
       "11       85.4\n",
       "12      115.9\n",
       "13       63.8\n",
       "14       16.4\n",
       "15      133.5\n",
       "16      509.4\n",
       "17       48.8\n",
       "18        8.8\n",
       "19       14.4\n",
       "20      242.7\n",
       "21       72.4\n",
       "22      131.4\n",
       "23      138.7\n",
       "24       24.4\n",
       "25         40\n",
       "26       50.3\n",
       "27      170.3\n",
       "28       13.7\n",
       "29      154.9\n",
       "        ...  \n",
       "2850      5.6\n",
       "2851      8.8\n",
       "2852    117.9\n",
       "2853    140.1\n",
       "2854     36.4\n",
       "2855    136.1\n",
       "2856    168.6\n",
       "2857    141.4\n",
       "2858     38.4\n",
       "2859    245.9\n",
       "2860     76.1\n",
       "2861     35.7\n",
       "2862     15.9\n",
       "2863    138.1\n",
       "2864      4.9\n",
       "2865    134.2\n",
       "2866    152.9\n",
       "2867    122.1\n",
       "2868    148.7\n",
       "2869    103.6\n",
       "2870     63.2\n",
       "2871     63.6\n",
       "2872    107.1\n",
       "2873     65.2\n",
       "2874      171\n",
       "2875     44.6\n",
       "2876    122.5\n",
       "2877      305\n",
       "2878      2.8\n",
       "2879     82.4\n",
       "Name: size, Length: 2880, dtype: object"
      ]
     },
     "execution_count": 107,
     "metadata": {},
     "output_type": "execute_result"
    }
   ],
   "source": [
    "df['size'].apply(lambda x: re.match(\"\\d+(\\.)?\\d*\",x)[0])\n"
   ]
  },
  {
   "cell_type": "code",
   "execution_count": null,
   "metadata": {},
   "outputs": [],
   "source": []
  }
 ],
 "metadata": {
  "kernelspec": {
   "display_name": "Python 3",
   "language": "python",
   "name": "python3"
  },
  "language_info": {
   "codemirror_mode": {
    "name": "ipython",
    "version": 3
   },
   "file_extension": ".py",
   "mimetype": "text/x-python",
   "name": "python",
   "nbconvert_exporter": "python",
   "pygments_lexer": "ipython3",
   "version": "3.7.3"
  }
 },
 "nbformat": 4,
 "nbformat_minor": 2
}
